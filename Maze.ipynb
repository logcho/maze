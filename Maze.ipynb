{
  "cells": [
    {
      "cell_type": "markdown",
      "metadata": {
        "id": "43ehY8FRdHVw"
      },
      "source": [
        "# Search: Solving a Maze Using a Goal-based Agent\n",
        "\n",
        "Student Name: Logan Choi\n",
        "\n",
        "I have used the following AI tools: [list tools]\n",
        "\n",
        "I understand that my submission needs to be my own work: [your initials]\n",
        "\n",
        "## Instructions\n",
        "\n",
        "Total Points: Undergrads 100 + 5 bonus / Graduate students 110\n",
        "\n",
        "Complete this notebook. Use the provided notebook cells and insert additional code and markdown cells as needed. Submit the notebook file and the completely rendered notebook with all outputs as a HTML file.\n",
        "\n",
        "\n",
        "## Introduction\n",
        "\n",
        "The agent must use a map it is given to plan a path through the maze from the starting location $S$ to the goal location $G$. This is a planing exercise for a goal-based agent, so you do not need to implement an environment, just use the map to search for a path. Once the plan is made, the agent in a deterministic environment (i.e., the transition function is deterministic with the outcome of each state/action pair fixed and no randomness) can just follow the path and does not need to care about the percepts.\n",
        "This is also called an **[open-loop system](https://en.wikipedia.org/wiki/Open-loop_controller).**\n",
        "The execution phase is trivial and can be executed using a model-based reflex agent\n",
        "that ignores all percepts and just follows the plan. We do not implement it in this exercise.\n",
        "\n",
        "Given that the agent has a complete and correct map, the environment is **fully observable, discrete, deterministic, and known.**\n",
        "Remember:\n",
        "\n",
        "* **Fully observable** means that the agent can see its state and what the available actions are. That means the **percepts contain the complete current state.**\n",
        "Here, during planning, the agent always sees its x and y coordinates on the map and\n",
        "also seeks when it has reached the goal state.\n",
        "* **Discrete** means that we have a **finite set of states.** The maze has a finite set\n",
        "of squares the agent can be in.\n",
        "* **Deterministic** means that the **transition function contains no randomness.** An action in a state will always produce the same result. Going south from the start state always will lead to the same square.\n",
        "* **Know** means that the agent **knows the complete transition function.** The\n",
        "agent has the map and therefore knows how its position changes when it walks in a direction.\n",
        "\n",
        "Tree search algorithm implementations that you find online typically come from data structures courses and have a different aim than AI tree search. These algorithms assume that you already have a tree in memory. We are interested in dynamically creating a search tree with the aim of finding a good/the best path from the root note to the goal state. Follow the pseudo code presented in the text book (and replicated in the slides) closely. Ideally, we would like to search only a small part of the maze, i.e., create a search tree with as few nodes as possible.\n",
        "\n",
        "Several mazes for this exercise are stored as text files. Here is the small example maze:"
      ]
    },
    {
      "cell_type": "code",
      "execution_count": 2,
      "metadata": {
        "id": "TuKeagvwdHVx",
        "outputId": "d2dee942-f844-4385-e8ab-00f9be274ab4"
      },
      "outputs": [
        {
          "name": "stdout",
          "output_type": "stream",
          "text": [
            "XXXXXXXXXXXXXXXXXXXXXX\n",
            "X XX        X X      X\n",
            "X    XXXXXX X XXXXXX X\n",
            "XXXXXX     S  X      X\n",
            "X    X XXXXXX XX XXXXX\n",
            "X XXXX X         X   X\n",
            "X        XXX XXX   X X\n",
            "XXXXXXXXXX    XXXXXX X\n",
            "XG         XX        X\n",
            "XXXXXXXXXXXXXXXXXXXXXX\n",
            "\n"
          ]
        }
      ],
      "source": [
        "with open(\"small_maze.txt\", \"r\") as f:\n",
        "    maze_str = f.read()\n",
        "print(maze_str)"
      ]
    },
    {
      "cell_type": "markdown",
      "metadata": {
        "id": "1_Uw5VQCdHVx"
      },
      "source": [
        "**Note:** If you get an error here that the file cannot be found, then you need to download it. See [HOWTO Work on Assignments.](https://github.com/mhahsler/CS7320-AI/blob/master/HOWTOs/working_on_assignments.md)"
      ]
    },
    {
      "cell_type": "markdown",
      "metadata": {
        "id": "RHQUX3l3dHVx"
      },
      "source": [
        "## Parsing and pretty printing the maze\n",
        "\n",
        "The maze can also be displayed in color using code in the module [maze_helper.py](maze_helper.py). The code parses the string representing the maze and converts it into a `numpy` 2d array which you can use in your implementation. Position are represented as a 2-tuple of the form `(row, col)`."
      ]
    },
    {
      "cell_type": "code",
      "execution_count": 3,
      "metadata": {
        "id": "Rr9pDA4kdHVx",
        "outputId": "cc1858b5-a581-4f56-d4dd-fdb354ba4ad8",
        "tags": []
      },
      "outputs": [
        {
          "name": "stdout",
          "output_type": "stream",
          "text": [
            "Position(0,0): X\n",
            "Position(8,1): G\n"
          ]
        }
      ],
      "source": [
        "import maze_helper as mh\n",
        "\n",
        "maze = mh.parse_maze(maze_str)\n",
        "\n",
        "# look at a position in the maze by subsetting the 2d array\n",
        "print(\"Position(0,0):\", maze[0, 0])\n",
        "\n",
        "# there is also a helper function called `look(maze, pos)` available\n",
        "# which uses a 2-tuple for the position.\n",
        "print(\"Position(8,1):\", mh.look(maze, (8, 1)))"
      ]
    },
    {
      "cell_type": "markdown",
      "metadata": {
        "id": "q1Q_s25sdHVx"
      },
      "source": [
        "A helper function to visualize the maze is also available."
      ]
    },
    {
      "cell_type": "code",
      "execution_count": 4,
      "metadata": {
        "id": "g-ElyxlTdHVx",
        "outputId": "bf80debb-3a6d-4b51-c182-6d864c0a7968"
      },
      "outputs": [
        {
          "data": {
            "image/png": "[encoded data removed]",
            "text/plain": [
              "<Figure size 640x480 with 1 Axes>"
            ]
          },
          "metadata": {
            "image/png": {
              "height": 269,
              "width": 534
            }
          },
          "output_type": "display_data"
        }
      ],
      "source": [
        "%matplotlib inline\n",
        "%config InlineBackend.figure_format = 'retina'\n",
        "# use higher resolution images in notebooks\n",
        "\n",
        "mh.show_maze(maze)"
      ]
    },
    {
      "cell_type": "markdown",
      "metadata": {
        "id": "QWgydVx7dHVy"
      },
      "source": [
        "Find the `(x,y)` position of the start and the goal using the helper function `find_pos()`"
      ]
    },
    {
      "cell_type": "code",
      "execution_count": 5,
      "metadata": {
        "id": "hVKTM_apdHVy",
        "outputId": "1a82404d-823c-4ba2-ed91-fec617f46f30"
      },
      "outputs": [
        {
          "name": "stdout",
          "output_type": "stream",
          "text": [
            "Start location: (np.int64(3), np.int64(11))\n",
            "Goal location: (np.int64(8), np.int64(1))\n"
          ]
        }
      ],
      "source": [
        "print(\"Start location:\", mh.find_pos(maze, what = \"S\"))\n",
        "print(\"Goal location:\", mh.find_pos(maze, what = \"G\"))"
      ]
    },
    {
      "cell_type": "markdown",
      "metadata": {
        "id": "uA9pGkYGdHVy"
      },
      "source": [
        "Helper function documentation."
      ]
    },
    {
      "cell_type": "code",
      "execution_count": 6,
      "metadata": {
        "id": "prDLN0lbdHVy",
        "outputId": "d81921a2-d13f-489b-b346-94716742e68b"
      },
      "outputs": [
        {
          "name": "stdout",
          "output_type": "stream",
          "text": [
            "Help on module maze_helper:\n",
            "\n",
            "NAME\n",
            "    maze_helper\n",
            "\n",
            "DESCRIPTION\n",
            "    Code for the Maze Assignment by Michael Hahsler\n",
            "    Usage: \n",
            "        import maze_helper as mh\n",
            "        mh.show_some_mazes()\n",
            "\n",
            "FUNCTIONS\n",
            "    animate_maze(result, repeat=False)\n",
            "        Build an animation from a list of mazes. Assumes that results has the elements:\n",
            "        path, reached, actions and maze_anim with a list of maze arrays.\n",
            "    \n",
            "    find_pos(maze, what='S')\n",
            "        Find start/goal in a maze and returns the first one. \n",
            "        Caution: there is no error checking!\n",
            "        \n",
            "        Parameters:\n",
            "        maze: a array with characters prodced by parse_maze()\n",
            "        what: the letter to be found ('S' for start and 'G' for goal)\n",
            "        \n",
            "        Returns:\n",
            "        a tupple (x, y) for the found position.\n",
            "    \n",
            "    look(maze, pos)\n",
            "        Look at the label of a square with the position as an array of the form (x, y).\n",
            "    \n",
            "    maze_to_matrix(maze)\n",
            "        convert a maze a numeric numpy array for visualization via imshow.\n",
            "    \n",
            "    parse_maze(maze_str)\n",
            "        Convert a maze as a string into a 2d numpy array\n",
            "    \n",
            "    show_maze(maze, fontsize=10)\n",
            "        Display a (parsed) maze as an image.\n",
            "    \n",
            "    welcome()\n",
            "        Welcome message.\n",
            "\n",
            "FILE\n",
            "    /Users/loganchoi/Desktop/maze/maze_helper.py\n",
            "\n",
            "\n"
          ]
        }
      ],
      "source": [
        "help(mh)"
      ]
    },
    {
      "cell_type": "markdown",
      "metadata": {
        "id": "7ZC0fTLKdHVy"
      },
      "source": [
        "You will need to make a local copy of the module file [maze_helper.py](maze_helper.py) in the same folder where your notebook is."
      ]
    },
    {
      "cell_type": "markdown",
      "metadata": {
        "id": "OfjoYGdcdHVy"
      },
      "source": [
        "## Tree structure\n",
        "\n",
        "Here is an implementation of the basic node structure for the search algorithms (see Fig 3.7 on page 73). I have added a method that extracts the path from the root node to the current node. It can be used to get the path when the search is completed."
      ]
    },
    {
      "cell_type": "code",
      "execution_count": 8,
      "metadata": {
        "id": "wYA2kyfqdHVy"
      },
      "outputs": [],
      "source": [
        "class Node:\n",
        "    def __init__(self, pos, parent, action, cost):\n",
        "        self.pos = tuple(pos)    # the state; positions are (row,col)\n",
        "        self.parent = parent     # reference to parent node. None means root node.\n",
        "        self.action = action     # action used in the transition function (root node has None)\n",
        "        self.cost = cost         # for uniform cost this is the depth. It is also g(n) for A* search\n",
        "\n",
        "    def __str__(self):\n",
        "        return f\"Node - pos = {self.pos}; action = {self.action}; cost = {self.cost}\"\n",
        "\n",
        "    def get_path_from_root(self):\n",
        "        \"\"\"returns nodes on the path from the root to the current node.\"\"\"\n",
        "        node = self\n",
        "        path = [node]\n",
        "\n",
        "        while not node.parent is None:\n",
        "            node = node.parent\n",
        "            path.append(node)\n",
        "\n",
        "        path.reverse()\n",
        "\n",
        "        return(path)"
      ]
    },
    {
      "cell_type": "markdown",
      "metadata": {
        "id": "GJxEWOw6dHVy"
      },
      "source": [
        "If needed, then you can add more fields to the class like the heuristic value $h(n)$ or $f(n)$.\n",
        "\n",
        "Examples for how to create and use a tree and information on memory management can be found [here](../HOWTOs/trees.ipynb)."
      ]
    },
    {
      "cell_type": "markdown",
      "metadata": {
        "id": "yTnDlyatdHVy"
      },
      "source": [
        "# Tasks\n",
        "\n",
        "The goal is to:\n",
        "\n",
        "1. Implement the following search algorithms for solving different mazes:\n",
        "\n",
        "    - Breadth-first search (BFS)\n",
        "    - Depth-first search (DFS)\n",
        "    - Greedy best-first search (GBFS)\n",
        "    - A* search\n",
        "\n",
        "2. Run each of the above algorithms on the\n",
        "    - [small maze](small_maze.txt),\n",
        "    - [medium maze](medium_maze.txt),\n",
        "    - [large maze](large_maze.txt),\n",
        "    - [open maze](open_maze.txt),\n",
        "    - [wall maze](wall_maze.txt),\n",
        "    - [loops maze](loops_maze.txt),\n",
        "    - [empty maze](empty_maze.txt), and\n",
        "    - [empty 2_maze](empty_2_maze.txt).\n",
        "    \n",
        "3. For each problem instance and each search algorithm, report the following in a table:\n",
        "\n",
        "    - The solution and its path cost\n",
        "    - Total number of nodes expanded\n",
        "    - Maximum tree depth\n",
        "    - Maximum size of the frontier\n",
        "\n",
        "4. Display each solution by marking every maze square (or state) visited and the squares on the final path.\n",
        "\n",
        "## General [10 Points]\n",
        "\n",
        "1. Make sure that you use the latest version of this notebook.\n",
        "2. Your implementation can use libraries like math, numpy, scipy, but not libraries that implement intelligent agents or complete search algorithms. Try to keep the code simple! In this course, we want to learn about the algorithms and we often do not need to use object-oriented design.\n",
        "3. You notebook needs to be formatted professionally.\n",
        "    - Add additional markdown blocks for your description, comments in the code, add tables and use mathplotlib to produce charts where appropriate\n",
        "    - Do not show debugging output or include an excessive amount of output.\n",
        "    - Check that your submitted file is readable and contains all figures.\n",
        "4. Document your code. Use comments in the code and add a discussion of how your implementation works and your design choices."
      ]
    },
    {
      "cell_type": "markdown",
      "metadata": {
        "id": "hzQHD_4gdHVy"
      },
      "source": [
        "## Task 1: Defining the search problem and determining the problem size [10 Points]\n",
        "\n",
        "Define the components of the search problem:\n",
        "\n",
        "* Initial state\n",
        "* Actions\n",
        "* Transition model\n",
        "* Goal state\n",
        "* Path cost\n",
        "\n",
        "Use verbal descriptions, variables and equations as appropriate.\n",
        "\n",
        "<!-- *Note:* You can swich the next block from code to Markdown and use formating. -->"
      ]
    },
    {
      "cell_type": "markdown",
      "metadata": {
        "id": "Mv9RGsxadHVy"
      },
      "source": [
        "1. Initial state: The initial state of the search problem is the initial position of the agent within the maze. Denoted by S -> (r, c) where r and c represent the row and column within the 2D maze.\n",
        "\n",
        "2. Actions:\n",
        "- Up (r, c) -> (r - 1, c)\n",
        "- Down (r, c) -> (r + 1, c)\n",
        "- Left (r, c) -> (r, c - 1)\n",
        "- Right (r, c) -> (r, c + 1)\n",
        "\n",
        "3. Transition model: Move from one coordinate to another.\n",
        "\n",
        "4. Goal state: The specified coordinate within the given maze denoted by G.\n",
        "\n",
        "5. Path cost: The total number of moves taken to reach the goal."
      ]
    },
    {
      "cell_type": "markdown",
      "metadata": {
        "id": "FL0Fasr0dHVz"
      },
      "source": [
        "Give some estimates for the problem size:\n",
        "\n",
        "* $n$: state space size\n",
        "* $d$: depth of the optimal solution\n",
        "* $m$: maximum depth of tree\n",
        "* $b$: maximum branching factor\n",
        "\n",
        "Describe how you would determin these values for a given maze."
      ]
    },
    {
      "cell_type": "markdown",
      "metadata": {
        "id": "VdDNf4DOdHVz"
      },
      "source": [
        "1. $n$: state space size: \n",
        "The total number of valid positions (states) in the maze. $n$ = total number of open cells = m × n − walls\n",
        "2. $d$: depth of the optimal solution: \n",
        "The length of the shortest path from the start state S to the goal state G.\n",
        "3. $m$: maximum depth of tree: \n",
        "The longest possible path in the worst-case scenario. If loops or dead ends exist, DFS may go deeper before backtracking.\n",
        "4. $b$: maximum branching factor:\n",
        "The maximum number of successors a state can have. In a grid-based maze with four possible movement directions (up, down, left, right), the branching factor is at most 4, but walls and boundaries reduce it."
      ]
    },
    {
      "cell_type": "markdown",
      "metadata": {
        "id": "ghHoXPaadHVz"
      },
      "source": [
        "## Task 2: Uninformed search: Breadth-first and depth-first [40 Points]\n",
        "\n",
        "Implement these search strategies. Follow the pseudocode in the textbook/slides. You can use the tree structure shown above to extract the final path from your solution.\n",
        "\n",
        "Read the following **important notes** carefully:\n",
        "* You can find maze solving implementations online that use the map to store information. While this is an effective idea for this two-dimensional navigation problem, it typically cannot be used for other search problems. Therefore, follow the textbook and **do not store information in the map.** Only store information in the tree created during search, and use the `reached` and `frontier` data structures where appropriate.\n",
        "* DSF behavior can be implemented using the BFS tree search algorithm and simply changing the order in which the frontier is expanded (this is equivalent to best-first search with path length as the criterion to expand the next node). However, this would be a big mistake since it combines the bad space complexity of BFS with the bad time complexity of DFS! **To take advantage of the significantly smaller memory footprint of DFS, you need to implement DFS in a different way without a `reached` data structure (often also called `visited` or `explored`) and by releasing the memory for nodes that are not needed anymore.**\n",
        "* Since the proper implementation of DFS does not use a `reached` data structure, redundant path checking abilities are limited to cycle checking.\n",
        "You need to implement **cycle checking since DSF is incomplete (produces an infinite loop) if cycles cannot be prevented.** You will see in your experiments that cycle checking in open spaces is challenging."
      ]
    },
    {
      "cell_type": "code",
      "execution_count": null,
      "metadata": {
        "id": "lonkoXH7dHVz"
      },
      "outputs": [],
      "source": [
        "# Your code goes here"
      ]
    },
    {
      "cell_type": "markdown",
      "metadata": {
        "id": "4Ocx03gLdHVz"
      },
      "source": [
        "How does BFS and DFS (without a reached data structure) deal with loops (cycles)?"
      ]
    },
    {
      "cell_type": "code",
      "execution_count": null,
      "metadata": {
        "id": "Opf4AgIidHVz"
      },
      "outputs": [],
      "source": [
        "# Discussion"
      ]
    },
    {
      "cell_type": "markdown",
      "metadata": {
        "id": "Yv9-P-7jdHVz"
      },
      "source": [
        "Are your implementations complete and optimal? Explain why. What is the time and space complexity of each of **your** implementations? Especially discuss the difference in space complexity between BFS and DFS."
      ]
    },
    {
      "cell_type": "code",
      "execution_count": null,
      "metadata": {
        "id": "b9LIeTFmdHVz"
      },
      "outputs": [],
      "source": [
        "# Discussion"
      ]
    },
    {
      "cell_type": "markdown",
      "metadata": {
        "id": "01-zZIQ1dHVz"
      },
      "source": [
        "## Task 3: Informed search: Implement greedy best-first search and A* search  [20 Points]\n",
        "\n",
        "You can use the map to estimate the distance from your current position to the goal using the Manhattan distance (see https://en.wikipedia.org/wiki/Taxicab_geometry) as a heuristic function. Both algorithms are based on Best-First search which requires only a small change from the BFS algorithm you have already implemented (see textbook/slides)."
      ]
    },
    {
      "cell_type": "code",
      "execution_count": null,
      "metadata": {
        "id": "5X6641hjdHVz"
      },
      "outputs": [],
      "source": [
        "# Your code goes here"
      ]
    },
    {
      "cell_type": "markdown",
      "metadata": {
        "id": "vRCZSRe4dHVz"
      },
      "source": [
        "Are your implementations complete and optimal? What is the time and space complexity?"
      ]
    },
    {
      "cell_type": "code",
      "execution_count": null,
      "metadata": {
        "id": "eMMt7gyPdHVz"
      },
      "outputs": [],
      "source": [
        "# Discussion"
      ]
    },
    {
      "cell_type": "markdown",
      "metadata": {
        "id": "K1-b-aLzdHVz"
      },
      "source": [
        "## Task 4: Comparison and discussion [20 Points]\n",
        "\n",
        "Run experiments to compare the implemented algorithms.\n",
        "\n",
        "How to deal with issues:\n",
        "\n",
        "* Your implementation returns unexpected results: Try to debug and fix the code. Visualizing the maze, the current path and the frontier after every step is very helpful. If the code still does not work, then mark the result with an asterisk (*) and describe the issue below the table.\n",
        "\n",
        "* Your implementation cannot consistently solve a specific maze and ends up in an infinite loop:\n",
        "    Debug (likely your frontier and cycle checking for DFS are the issue). If it is a shortcoming of the algorithm/implementation, then put \"N/A*\" in the results table and describe why this is happening."
      ]
    },
    {
      "cell_type": "code",
      "execution_count": null,
      "metadata": {
        "id": "2c9hUgV0dHVz"
      },
      "outputs": [],
      "source": [
        "# Add code"
      ]
    },
    {
      "cell_type": "markdown",
      "metadata": {
        "id": "ZtSe0b3DdHVz"
      },
      "source": [
        "Complete the following table for each maze.\n",
        "\n",
        "__Small maze__\n",
        "\n",
        "| algorithm | path cost | # of nodes expanded | max tree depth | max # of nodes in memory | max frontier size |\n",
        "|-----------|-----------|----------------|----------------|---------------|-------------------|\n",
        "| BFS       |           |                |                |               |                   |\n",
        "| DFS       |           |                |                |               |                   |\n",
        "| GBS       |           |                |                |               |                   |\n",
        "| A*        |           |                |                |               |                   |\n",
        "\n",
        "__Medium Maze__\n",
        "\n",
        "..."
      ]
    },
    {
      "cell_type": "markdown",
      "metadata": {
        "id": "_9-_Pg3NdHVz"
      },
      "source": [
        "Present the results as using charts (see [Python Code Examples/charts and tables](../HOWTOs/charts_and_tables.ipynb))."
      ]
    },
    {
      "cell_type": "code",
      "execution_count": null,
      "metadata": {
        "id": "J-ZozkuzdHVz"
      },
      "outputs": [],
      "source": [
        "# Add charts"
      ]
    },
    {
      "cell_type": "markdown",
      "metadata": {
        "id": "8FQlSzV8dHVz"
      },
      "source": [
        "Discuss the most important lessons you have learned from implementing the different search strategies."
      ]
    },
    {
      "cell_type": "code",
      "execution_count": null,
      "metadata": {
        "id": "mrUCJWhLdHVz"
      },
      "outputs": [],
      "source": [
        "# Add discussion"
      ]
    },
    {
      "cell_type": "markdown",
      "metadata": {
        "id": "c25iJg27dHVz"
      },
      "source": [
        "## Advanced task: IDS and Multiple goals\n",
        "\n",
        "* __Graduate students__ need to complete this task [10 points]\n",
        "* __Undergraduate students__ can attempt this as a bonus task [max +5 bonus points].\n",
        "\n",
        "### IDS\n",
        "Implement IDS (iterative deepening search) using your DFS implementation. Test IDS on the mazes above. You may run into some issues with mazes with open spaces. If you cannot resolve the issus, then report and discuss what causes the problems."
      ]
    },
    {
      "cell_type": "code",
      "execution_count": null,
      "metadata": {
        "id": "K7T6QecZdHVz"
      },
      "outputs": [],
      "source": [
        "# Your code/answer goes here"
      ]
    },
    {
      "cell_type": "markdown",
      "metadata": {
        "id": "mXDSLEaPdHV2"
      },
      "source": [
        "### Multiple Goals\n",
        "Create a few mazes with multiple goals by adding one or two more goals to the medium size maze. The agent is done when it finds one of the goals.\n",
        "Solve the maze with your implementations for DFS, BFS, and IDS. Run experiments to show which implementations find the optimal solution and which do not. Discuss why that is the case."
      ]
    },
    {
      "cell_type": "code",
      "execution_count": null,
      "metadata": {
        "id": "ffJBda9tdHV2"
      },
      "outputs": [],
      "source": [
        "# Your code/answer goes here"
      ]
    },
    {
      "cell_type": "markdown",
      "metadata": {
        "id": "dJHEXUukdHV2"
      },
      "source": [
        "## More Advanced Problems to Think About (not for credit)\n",
        "\n",
        "If the assignment was to easy for yuo then you can think about the following problems. These problems are challenging and not part of this assignment.\n",
        "\n",
        "### Intersection as States\n",
        "Instead of defining each square as a state, use only intersections as states. Now the storage requirement is reduced, but the path length between two intersections can be different. If we use total path length measured as the number of squares as path cost, how can we make sure that BFS and iterative deepening search is optimal? Change the code to do so."
      ]
    },
    {
      "cell_type": "code",
      "execution_count": null,
      "metadata": {
        "id": "6r0_uWefdHV2"
      },
      "outputs": [],
      "source": [
        "# Your code/answer goes here"
      ]
    },
    {
      "cell_type": "markdown",
      "metadata": {
        "id": "rOa0e22ydHV2"
      },
      "source": [
        "### Weighted A* search\n",
        "Modify your A* search to add weights (see text book) and explore how different weights influence the result."
      ]
    },
    {
      "cell_type": "code",
      "execution_count": null,
      "metadata": {
        "id": "EvGFWNrodHV2"
      },
      "outputs": [],
      "source": [
        "# Your code/answer goes here"
      ]
    },
    {
      "cell_type": "markdown",
      "metadata": {
        "id": "R2DkvBxddHV2"
      },
      "source": [
        "### Unknown Maze\n",
        "What happens if the agent does not know the layout of the maze in advance? This means that the agent faces an unknown environment, where it does not know the transition function. How does the environment look then (PEAS description)? How would you implement a rational agent to solve the maze? What if the agent still has a GPS device to tell the distance to the goal?"
      ]
    },
    {
      "cell_type": "code",
      "execution_count": null,
      "metadata": {
        "id": "kl8qNGNNdHV2"
      },
      "outputs": [],
      "source": [
        "# Your code/answer goes here"
      ]
    }
  ],
  "metadata": {
    "colab": {
      "provenance": []
    },
    "kernelspec": {
      "display_name": "Python 3 (ipykernel)",
      "language": "python",
      "name": "python3"
    },
    "language_info": {
      "codemirror_mode": {
        "name": "ipython",
        "version": 3
      },
      "file_extension": ".py",
      "mimetype": "text/x-python",
      "name": "python",
      "nbconvert_exporter": "python",
      "pygments_lexer": "ipython3",
      "version": "3.9.6"
    }
  },
  "nbformat": 4,
  "nbformat_minor": 0
}
